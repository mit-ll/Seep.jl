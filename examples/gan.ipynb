{
 "cells": [
  {
   "cell_type": "code",
   "execution_count": null,
   "metadata": {
    "collapsed": true
   },
   "outputs": [],
   "source": [
    "using MNIST"
   ]
  },
  {
   "cell_type": "code",
   "execution_count": null,
   "metadata": {
    "collapsed": false
   },
   "outputs": [],
   "source": [
    "ENV[\"SEEP_NO_GPU\"]=\"1\"\n",
    "#using Seep\n",
    "include(Pkg.dir(\"Seep\", \"src\", \"Seep.jl\"))\n",
    ";"
   ]
  },
  {
   "cell_type": "code",
   "execution_count": null,
   "metadata": {
    "collapsed": false
   },
   "outputs": [],
   "source": [
    "using ProgressMeter"
   ]
  },
  {
   "cell_type": "code",
   "execution_count": null,
   "metadata": {
    "collapsed": false
   },
   "outputs": [],
   "source": [
    "using PyPlot"
   ]
  },
  {
   "cell_type": "code",
   "execution_count": null,
   "metadata": {
    "collapsed": false
   },
   "outputs": [],
   "source": [
    "const minibatch = 50\n",
    "const np = 28*28\n",
    "const nh = 256\n",
    ";"
   ]
  },
  {
   "cell_type": "code",
   "execution_count": null,
   "metadata": {
    "collapsed": false
   },
   "outputs": [],
   "source": [
    "encoder = Seep.Flow[\n",
    "    Seep.Linear(Float32, \"enc1\", np, nh), tanh,\n",
    "    Seep.Linear(Float32, \"enc2\", nh, nh), tanh,\n",
    "    Seep.Linear(Float32, \"enc3\", nh, nh)\n",
    "];"
   ]
  },
  {
   "cell_type": "code",
   "execution_count": null,
   "metadata": {
    "collapsed": false
   },
   "outputs": [],
   "source": [
    "decoder = Seep.Flow[\n",
    "    Seep.Linear(Float32, \"dec1\", nh, nh), tanh,\n",
    "    Seep.Linear(Float32, \"dec2\", nh, nh), tanh,\n",
    "    Seep.Linear(Float32, \"dec3\", nh, np)\n",
    "];"
   ]
  },
  {
   "cell_type": "code",
   "execution_count": null,
   "metadata": {
    "collapsed": true
   },
   "outputs": [],
   "source": [
    "discriminator = Seep.Flow[\n",
    "    Seep.Linear(Float32, \"dis1\", np, nh), tanh,\n",
    "    Seep.Linear(Float32, \"dis2\", nh, nh), tanh,\n",
    "    Seep.Linear(Float32, \"dis3\", nh, 1), Seep.sigm\n",
    "];"
   ]
  },
  {
   "cell_type": "code",
   "execution_count": null,
   "metadata": {
    "collapsed": false
   },
   "outputs": [],
   "source": [
    "pool = Seep.BuddyPool(Array{Float32}(1<<30))\n",
    ";"
   ]
  },
  {
   "cell_type": "code",
   "execution_count": null,
   "metadata": {
    "collapsed": false
   },
   "outputs": [],
   "source": [
    "∇R = Seep.gradients(Seep.name!(1e-5*reduce(+, [sum(θ.^2) for θ in Seep.reg_params([encoder; decoder; discriminator])]), \"reg\"))\n",
    ";"
   ]
  },
  {
   "cell_type": "code",
   "execution_count": null,
   "metadata": {
    "collapsed": false
   },
   "outputs": [],
   "source": [
    "x = Seep.ANode(\"x\", zeros(Float32, np, minibatch))\n",
    "z1 = Seep.ANode(\"z1\", zeros(Float32, 256, minibatch))\n",
    "z2 = Seep.ANode(\"z2\", zeros(Float32, 256, minibatch))\n",
    ";"
   ]
  },
  {
   "cell_type": "code",
   "execution_count": null,
   "metadata": {
    "collapsed": false
   },
   "outputs": [],
   "source": [
    "let\n",
    "    @Seep.named x̂ decoder(encoder(x))\n",
    "    ∇A = Seep.gradients(@Seep.named(loss, sum((x̂ - x).^2)))\n",
    "\n",
    "    global const autoencoder = Seep.instance(pool, Seep.ANode[x; loss;\n",
    "        map(θ->Seep.adam_fast(θ, ∇A[θ] + ∇R[θ]), Seep.get_params([decoder; encoder]))])\n",
    "    global const autoencoder_test = Seep.instance(pool, Seep.ANode[x; x̂; loss])\n",
    "    nothing\n",
    "end"
   ]
  },
  {
   "cell_type": "code",
   "execution_count": null,
   "metadata": {
    "collapsed": false
   },
   "outputs": [],
   "source": [
    "let\n",
    "    name! = Seep.name!\n",
    "\n",
    "    d1 = name!(discriminator(@Seep.named x̂1 decoder(z1)), \"d1\")\n",
    "    l1 = name!(sum(log1p(-d1)), \"generator_loss\")\n",
    "\n",
    "    d2 = name!(discriminator(@Seep.named x̂2 decoder(z2)), \"d2\")\n",
    "    l2 = name!(sum(-log1p(-d2)), \"fake_loss\")\n",
    "\n",
    "    d3 = name!(discriminator(x), \"d3\")\n",
    "    l3 = name!(sum(-log(d3)), \"real_loss\")\n",
    "\n",
    "    ∇G = Seep.gradients(l1)\n",
    "    ∇D = Seep.gradients(l2 + l3)\n",
    "\n",
    "    updates1 = map(θ->Seep.adam_fast(θ, ∇D[θ] + ∇R[θ], 1e-4, 0.5), Seep.get_params(discriminator))\n",
    "    updates2 = map(θ->Seep.adam_fast(θ, ∇G[θ] + ∇R[θ], 1e-4, 0.5), Seep.get_params(decoder))\n",
    "    \n",
    "    global const gan = Seep.instance(pool, Seep.ANode[x; z1; z2; l1; l2; l3; updates1; updates2])\n",
    "    global const gan_test = Seep.instance(pool, Seep.ANode[x; z1; z2; x̂1; x̂2; d1; d2; d3])\n",
    "    nothing\n",
    "end"
   ]
  },
  {
   "cell_type": "code",
   "execution_count": null,
   "metadata": {
    "collapsed": false
   },
   "outputs": [],
   "source": []
  },
  {
   "cell_type": "code",
   "execution_count": null,
   "metadata": {
    "collapsed": false
   },
   "outputs": [],
   "source": [
    "function do_minibatch(g, test=false)\n",
    "    if isdefined(g, :x)\n",
    "        if test\n",
    "            for i in 1:minibatch\n",
    "                g.x[:,i] = testfeatures(rand(1:10_000))/255\n",
    "            end\n",
    "        else\n",
    "            for i in 1:minibatch\n",
    "                g.x[:,i] = trainfeatures(rand(1:60_000))/255\n",
    "            end\n",
    "        end\n",
    "    end\n",
    "    \n",
    "    if isdefined(g, :z1)\n",
    "        copy!(g.z1, randn(size(g.z1)))\n",
    "    end\n",
    "    \n",
    "    if isdefined(g, :z2)\n",
    "        copy!(g.z2, randn(size(g.z2)))\n",
    "    end\n",
    "\n",
    "    g()\n",
    "end"
   ]
  },
  {
   "cell_type": "code",
   "execution_count": null,
   "metadata": {
    "collapsed": true
   },
   "outputs": [],
   "source": [
    "const ae_loss = Float64[];"
   ]
  },
  {
   "cell_type": "code",
   "execution_count": null,
   "metadata": {
    "collapsed": false
   },
   "outputs": [],
   "source": [
    "@showprogress for j in 1:50\n",
    "    loss = 0.\n",
    "\n",
    "    for i in 1:1000÷minibatch\n",
    "        do_minibatch(autoencoder)\n",
    "        loss += autoencoder.loss[1]\n",
    "    end\n",
    "\n",
    "    if isnan(loss)\n",
    "        error(\"NaN\")\n",
    "    end\n",
    "\n",
    "    push!(ae_loss, loss/1000)\n",
    "end"
   ]
  },
  {
   "cell_type": "code",
   "execution_count": null,
   "metadata": {
    "collapsed": false
   },
   "outputs": [],
   "source": [
    "semilogy(ae_loss)"
   ]
  },
  {
   "cell_type": "code",
   "execution_count": null,
   "metadata": {
    "collapsed": false
   },
   "outputs": [],
   "source": [
    "do_minibatch(autoencoder_test, true)\n",
    "\n",
    "for j in 0:1\n",
    "    for i in 1:5\n",
    "        subplot(4,5,i+10j)\n",
    "        imshow(reshape(autoencoder_test.x[:,i+5j], 28, 28), vmin=0, vmax=1, cmap=\"bone\")\n",
    "\n",
    "        subplot(4,5,i+5+10j)\n",
    "        imshow(reshape(autoencoder_test.x̂[:,i+5j], 28, 28), vmin=0, vmax=1, cmap=\"bone\")\n",
    "    end\n",
    "end"
   ]
  },
  {
   "cell_type": "code",
   "execution_count": null,
   "metadata": {
    "collapsed": false
   },
   "outputs": [],
   "source": [
    "const gan_loss = Float64[];"
   ]
  },
  {
   "cell_type": "code",
   "execution_count": null,
   "metadata": {
    "collapsed": false
   },
   "outputs": [],
   "source": [
    "@showprogress for j in 1:200\n",
    "    g_loss = r_loss = f_loss = 0.\n",
    "\n",
    "    for i in 1:1000÷minibatch\n",
    "        do_minibatch(gan)\n",
    "        g_loss += gan.generator_loss[1]\n",
    "        r_loss += gan.real_loss[1]\n",
    "        f_loss += gan.fake_loss[1]\n",
    "    end\n",
    "\n",
    "    if isnan(g_loss) || isnan(r_loss) || isnan(f_loss)\n",
    "        error(\"NaN\")\n",
    "    end\n",
    "\n",
    "    append!(gan_loss, [g_loss, r_loss, f_loss]/1000)\n",
    "    #Seep.save_snapshot(\"gan.jld\", Seep.get_params([decoder; discriminator]))\n",
    "end"
   ]
  },
  {
   "cell_type": "code",
   "execution_count": null,
   "metadata": {
    "collapsed": false
   },
   "outputs": [],
   "source": [
    "semilogy(-gan_loss[1:3:end]; label=\"generator\")\n",
    "semilogy(gan_loss[2:3:end]; label=\"real\")\n",
    "semilogy(gan_loss[3:3:end]; label=\"fake\")\n",
    "hlines(-log(0.5), 0, length(gan_loss)÷3, linestyle=\"--\", label=\"50/50\")\n",
    "legend()\n",
    ";"
   ]
  },
  {
   "cell_type": "code",
   "execution_count": null,
   "metadata": {
    "collapsed": false
   },
   "outputs": [],
   "source": [
    "do_minibatch(gan_test, true)\n",
    "\n",
    "for i in 1:5\n",
    "    for (row,xi,di) in [(0,:x,:d3),(1,:x̂1,:d1),(2,:x̂2,:d2)]\n",
    "\n",
    "        subplot(6,5,i+10*row)\n",
    "        imshow(reshape(gan_test.(xi)[:,i], 28, 28), vmin=0, cmap=\"bone\")\n",
    "\n",
    "        subplot(6,5,i+5+10*row)\n",
    "        pie([gan_test.(di)[i], 1-gan_test.(di)[i]])\n",
    "\n",
    "    end\n",
    "end\n",
    "#colorbar()"
   ]
  },
  {
   "cell_type": "code",
   "execution_count": null,
   "metadata": {
    "collapsed": true
   },
   "outputs": [],
   "source": []
  },
  {
   "cell_type": "code",
   "execution_count": null,
   "metadata": {
    "collapsed": true
   },
   "outputs": [],
   "source": []
  }
 ],
 "metadata": {
  "kernelspec": {
   "display_name": "Julia 0.4.3",
   "language": "julia",
   "name": "julia-0.4"
  },
  "language_info": {
   "file_extension": ".jl",
   "mimetype": "application/julia",
   "name": "julia",
   "version": "0.4.3"
  }
 },
 "nbformat": 4,
 "nbformat_minor": 0
}
