{
 "cells": [
  {
   "cell_type": "code",
   "execution_count": null,
   "metadata": {
    "collapsed": false
   },
   "outputs": [],
   "source": [
    "import Winston\n",
    "using Interact\n",
    "using PyBokeh"
   ]
  },
  {
   "cell_type": "code",
   "execution_count": null,
   "metadata": {
    "collapsed": false
   },
   "outputs": [],
   "source": [
    "ENV[\"SEEP_NO_GPU\"]=false\n",
    "using Seep\n",
    "using MNIST, JLD\n",
    "\n",
    "T = Float32\n",
    "const ftest = map(T, testdata()[1]/255)\n",
    "make_node(s::AbstractString, a::Array) = ANode(s, map(T, a))\n",
    "make_node(s::AbstractString, x::Int...) = ANode(s, x...)\n",
    "make_node(a::Array) = ANode(map(T, a))\n",
    "make_node(x::Int...) = ANode(x...)\n",
    "get_data(x) = x\n",
    "nothing"
   ]
  },
  {
   "cell_type": "code",
   "execution_count": null,
   "metadata": {
    "collapsed": false
   },
   "outputs": [],
   "source": [
    "@load \"snapshot-vae/statistics.jld\""
   ]
  },
  {
   "cell_type": "code",
   "execution_count": null,
   "metadata": {
    "collapsed": false
   },
   "outputs": [],
   "source": [
    "f = line(figure(), collect(1:length(Ekl)), Ekl)\n",
    "line(f, collect(1:length(Erec)), Erec, line_color=\"red\")\n",
    "ylim(f, 0, 2)"
   ]
  },
  {
   "cell_type": "code",
   "execution_count": null,
   "metadata": {
    "collapsed": false
   },
   "outputs": [],
   "source": [
    "# Constants\n",
    "const input_size = 28*28\n",
    "const latent_size = 5\n",
    "const output_size = input_size\n",
    "const batch_size = 100\n",
    "\n",
    "# Network\n",
    "const X = make_node(input_size, batch_size)\n",
    "μ = make_node(latent_size, batch_size)\n",
    "lnσ = make_node(latent_size, batch_size)\n",
    "x = X\n",
    "\n",
    "# Generate latent variables (encoding)\n",
    "let encode_size=[20, 20]\n",
    "\n",
    "    fe = Linear(\"e_encode\", input_size, encode_size[1])\n",
    "    x = tanh(fe(x))\n",
    "\n",
    "    fh = Flow[]\n",
    "    for i in 1:length(encode_size)\n",
    "        j = i==1 ? i : i-1\n",
    "        fi = Linear(\"h_$(i)_encode\", encode_size[j], encode_size[i])\n",
    "        x = tanh(fi(x))\n",
    "        push!(fh, fi)\n",
    "    end\n",
    "    fs = Linear(\"s_encode\", encode_size[end], latent_size)\n",
    "    x = tanh(fs(x))\n",
    "\n",
    "    fμ = Linear(\"μ_encode\", latent_size, latent_size)\n",
    "    μ = fμ(x)\n",
    "\n",
    "    fσ = Linear(\"lnσ_encode\", latent_size, latent_size)\n",
    "    lnσ = fσ(x)\n",
    "end\n",
    "\n",
    "# Sample Latent Variables\n",
    "const ϵ = make_node(latent_size, batch_size)\n",
    "z = μ + exp(lnσ) .* ϵ\n",
    "\n",
    "# Inference of image from latent variables (decode)\n",
    "yhat = z\n",
    "let decode_size=[20, 20]\n",
    "\n",
    "    fe = Linear(\"e_decode\", latent_size, decode_size[1])\n",
    "    yhat = tanh(fe(yhat))\n",
    "\n",
    "    fh = Flow[]\n",
    "    for i in 1:length(decode_size)\n",
    "        j = i==1 ? i : i-1\n",
    "        fi = Linear(\"h_$(i)_decode\", decode_size[j], decode_size[i])\n",
    "        yhat = tanh(fi(yhat))\n",
    "        push!(fh, fi)\n",
    "    end\n",
    "    fs = Linear(\"s_decode\", decode_size[end], output_size)\n",
    "    yhat = tanh(fs(yhat))\n",
    "\n",
    "    fy = Linear(\"y_decode\", output_size, output_size)\n",
    "    yhat = fy(yhat)\n",
    "end\n",
    "\n",
    "vae = instance(yhat, μ, lnσ)\n",
    ";"
   ]
  },
  {
   "cell_type": "code",
   "execution_count": null,
   "metadata": {
    "collapsed": false
   },
   "outputs": [],
   "source": [
    "function epoch()\n",
    "    xout = zeros(Float32, input_size, 10000)\n",
    "    μs = zeros(Float32, latent_size, 10000)\n",
    "    for i in 1:batch_size:10000\n",
    "        ii = i+(1:batch_size)-1\n",
    "\n",
    "        xi= vae[X]\n",
    "        xi[:,:] = ftest[:, ii]\n",
    "\n",
    "        ϵi = vae[ϵ]\n",
    "        ϵi[:, :] = randn(latent_size, batch_size)\n",
    "        vae()\n",
    "        \n",
    "        xout[:, ii] = vae[yhat]\n",
    "        μs[:, ii] = vae[μ]\n",
    "    end\n",
    "    xout, μs\n",
    "end\n"
   ]
  },
  {
   "cell_type": "code",
   "execution_count": null,
   "metadata": {
    "collapsed": false
   },
   "outputs": [],
   "source": [
    "n_epoch_start = 0\n",
    "if isdir(\"snapshot-vae\")\n",
    "    f = filter(x->contains(x, \"snapshot-\"), readdir(\"snapshot-vae\"))\n",
    "    if length(f) > 0\n",
    "        epochs = map(x->parse(Int, split(split(x, \".\")[1], \"-\")[end]), f)\n",
    "        ind = indmax(epochs)\n",
    "        n_epoch_start = epochs[ind]\n",
    "        @show n_epoch_start\n",
    "        load_snapshot(joinpath(\"snapshot-vae\", f[ind]), yhat)\n",
    "    end\n",
    "end\n"
   ]
  },
  {
   "cell_type": "code",
   "execution_count": null,
   "metadata": {
    "collapsed": false
   },
   "outputs": [],
   "source": [
    "xhat, μs = epoch()\n",
    "nothing"
   ]
  },
  {
   "cell_type": "code",
   "execution_count": null,
   "metadata": {
    "collapsed": false
   },
   "outputs": [],
   "source": [
    "import PyPlot\n",
    "ind = rand(1:10000)\n",
    "\n",
    "PyPlot.subplot(121)\n",
    "PyPlot.imshow(reshape(ftest[:, ind], (28,28)), cmap=PyPlot.cm[:bone])\n",
    "PyPlot.subplot(122)\n",
    "PyPlot.imshow(reshape(xhat[:, ind], (28,28)), cmap=PyPlot.cm[:bone])\n",
    "@show μs[:, ind]\n",
    "\n",
    "nothing"
   ]
  },
  {
   "cell_type": "code",
   "execution_count": null,
   "metadata": {
    "collapsed": false
   },
   "outputs": [],
   "source": [
    "function reconstruct(z, latent_size, decode_size, output_size)\n",
    "    fe = Linear(\"e_decode\", latent_size, decode_size[1])\n",
    "    yhat = tanh(fe(z))\n",
    "\n",
    "    fh = Flow[]\n",
    "    for i in 1:length(decode_size)\n",
    "        j = i==1 ? i : i-1\n",
    "        fi = Linear(\"h_$(i)_decode\", decode_size[j], decode_size[i])\n",
    "        yhat = tanh(fi(yhat))\n",
    "        push!(fh, fi)\n",
    "    end\n",
    "    fs = Linear(\"s_decode\", decode_size[end], output_size)\n",
    "    yhat = tanh(fs(yhat))\n",
    "\n",
    "    fy = Linear(\"y_decode\", output_size, output_size)\n",
    "    fy(yhat)    \n",
    "end\n",
    "\n",
    "zz = make_node(latent_size, 1)\n",
    "yy = reconstruct(zz, latent_size, [20, 20], output_size)\n",
    "test = instance(yy)\n",
    "epochs = map(x->parse(Int, split(split(x, \".\")[1], \"-\")[end]), f)\n",
    "ind = indmax(epochs)\n",
    "load_snapshot(joinpath(\"snapshot-vae\", f[ind]), yy)\n",
    ";"
   ]
  },
  {
   "cell_type": "code",
   "execution_count": null,
   "metadata": {
    "collapsed": false
   },
   "outputs": [],
   "source": [
    "@manipulate for z1=-2:0.1:2, z2=-2:0.1:2, z3=-2:0.1:2, z4=-2:0.1:2, z5=-2:0.1:2\n",
    "    zi = zeros(Float32, latent_size, 1)\n",
    "    zi[1] = z1\n",
    "    zi[2] = z2\n",
    "    zi[3] = z3\n",
    "    zi[4] = z4\n",
    "    zi[5] = z5\n",
    "    \n",
    "    zk = test[zz]\n",
    "    zk[:] = zi\n",
    "    test()\n",
    "    xh = test[yy]\n",
    "    Winston.imagesc(reshape(xh[:, 1], (28,28)))\n",
    "end"
   ]
  },
  {
   "cell_type": "code",
   "execution_count": null,
   "metadata": {
    "collapsed": true
   },
   "outputs": [],
   "source": []
  }
 ],
 "metadata": {
  "kernelspec": {
   "display_name": "Julia 0.4.3",
   "language": "julia",
   "name": "julia-0.4"
  },
  "language_info": {
   "file_extension": ".jl",
   "mimetype": "application/julia",
   "name": "julia",
   "version": "0.4.3"
  }
 },
 "nbformat": 4,
 "nbformat_minor": 0
}
