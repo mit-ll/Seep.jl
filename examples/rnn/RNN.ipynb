{
 "cells": [
  {
   "cell_type": "code",
   "execution_count": null,
   "metadata": {
    "collapsed": false
   },
   "outputs": [],
   "source": [
    "using PyBokeh"
   ]
  },
  {
   "cell_type": "code",
   "execution_count": null,
   "metadata": {
    "collapsed": false
   },
   "outputs": [],
   "source": [
    "ENV[\"SEEP_NO_GPU\"]=false\n",
    "using Seep, JLD\n",
    "T = Float32\n",
    "relu(x::ANode) = Seep.max!(0, x)\n",
    "make_node(a::Array) = ANode(a)\n",
    "make_node(x::Int...) = ANode(x...)\n",
    "get_data(x) = x\n",
    "\n",
    "include(\"data.jl\")\n",
    "data = IRData()\n",
    "nothing"
   ]
  },
  {
   "cell_type": "code",
   "execution_count": null,
   "metadata": {
    "collapsed": false
   },
   "outputs": [],
   "source": [
    "@load \"snapshot-rnn/statistics.jld\"\n",
    "f = line(figure(), collect(1:length(E)), E)\n",
    "ylim(f, 0, 1)"
   ]
  },
  {
   "cell_type": "code",
   "execution_count": null,
   "metadata": {
    "collapsed": false
   },
   "outputs": [],
   "source": [
    "# Constants\n",
    "const sequence_length = 50\n",
    "const input_size = 2\n",
    "const hidden_size = [10, 10]\n",
    "const feature_size = 5\n",
    "const output_size = 2\n",
    "const batch_size = size(data.test, 3)\n",
    "\n",
    "# Network\n",
    "const X = ANode[make_node(input_size, batch_size) for i=1:sequence_length]\n",
    "const Y = make_node(output_size, batch_size)\n",
    "y = make_node(zeros(T, output_size, batch_size))\n",
    "\n",
    "params = Flow[]\n",
    "let \n",
    "    # Initialize nodes\n",
    "    fe = Linear(\"e\", input_size, hidden_size[1])\n",
    "    fh = Flow[]\n",
    "    for j = 1:length(hidden_size)\n",
    "        k = j==1 ? 1 : j-1\n",
    "\n",
    "        f = LSTM(\"h$(j)\", hidden_size[k], hidden_size[j])\n",
    "        push!(fh, f)\n",
    "    end\n",
    "    ff = Linear(\"features\", hidden_size[end], feature_size)\n",
    "    fy = Linear(\"output\", feature_size, output_size)\n",
    "    push!(params, fe, fh..., ff, fy)\n",
    "\n",
    "    # Initialize LSTM variables\n",
    "    h = ANode[make_node(zeros(T, hidden_size[i], batch_size)) for i = 1:length(hidden_size)]\n",
    "    c = ANode[make_node(zeros(T, hidden_size[i], batch_size)) for i = 1:length(hidden_size)]\n",
    "\n",
    "    # Build graph\n",
    "    x = make_node(zeros(T, input_size, batch_size))\n",
    "    for i = 1:length(X)\n",
    "        x = relu(fe(X[i]))\n",
    "        for j = 1:length(hidden_size)\n",
    "            c[j], h[j] = fh[j](x, c[j], h[j])\n",
    "            x = h[j]\n",
    "        end\n",
    "    end\n",
    "    x = tanh(ff(x))\n",
    "    y = softmax(fy(x), 1)\n",
    "end\n",
    "\n",
    "# Gradient Calculation for SGD\n",
    "RNN = instance(y)\n",
    "nothing"
   ]
  },
  {
   "cell_type": "code",
   "execution_count": null,
   "metadata": {
    "collapsed": false
   },
   "outputs": [],
   "source": [
    "# Load Latest Snapshot\n",
    "n_epoch_start = 0\n",
    "\n",
    "if isdir(\"snapshot-brnn\")\n",
    "    f = filter(x->contains(x, \"snapshot-\"), readdir(\"snapshot-rnn\"))\n",
    "    if length(f) > 0\n",
    "        epochs = map(x->parse(Int, split(split(x, \".\")[1], \"-\")[end]), f)\n",
    "        ind = indmax(epochs)\n",
    "        n_epoch_start = epochs[ind]\n",
    "        @show n_epoch_start\n",
    "        load_snapshot(joinpath(\"snapshot-rnn\", f[ind]), y)\n",
    "    end\n",
    "end\n"
   ]
  },
  {
   "cell_type": "code",
   "execution_count": null,
   "metadata": {
    "collapsed": false
   },
   "outputs": [],
   "source": [
    "function eval_test()\n",
    "    xx = data.test\n",
    "\n",
    "    for i = 1:length(X)\n",
    "        xi = RNN[X[i]]\n",
    "        xi[:, :] = xx[:, i, :]\n",
    "    end\n",
    "\n",
    "    RNN()\n",
    "    RNN[y]\n",
    "end"
   ]
  },
  {
   "cell_type": "code",
   "execution_count": null,
   "metadata": {
    "collapsed": false
   },
   "outputs": [],
   "source": [
    "ys = eval_test()\n",
    ";"
   ]
  },
  {
   "cell_type": "code",
   "execution_count": null,
   "metadata": {
    "collapsed": false
   },
   "outputs": [],
   "source": [
    "hist(figure(), vec(ys[1, :]), line_color=\"black\")"
   ]
  },
  {
   "cell_type": "code",
   "execution_count": null,
   "metadata": {
    "collapsed": true
   },
   "outputs": [],
   "source": []
  }
 ],
 "metadata": {
  "kernelspec": {
   "display_name": "Julia 0.4.3",
   "language": "julia",
   "name": "julia-0.4"
  },
  "language_info": {
   "file_extension": ".jl",
   "mimetype": "application/julia",
   "name": "julia",
   "version": "0.4.3"
  }
 },
 "nbformat": 4,
 "nbformat_minor": 0
}
