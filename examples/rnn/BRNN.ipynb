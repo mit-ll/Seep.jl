{
 "cells": [
  {
   "cell_type": "code",
   "execution_count": null,
   "metadata": {
    "collapsed": false
   },
   "outputs": [],
   "source": [
    "using PyBokeh"
   ]
  },
  {
   "cell_type": "code",
   "execution_count": null,
   "metadata": {
    "collapsed": false
   },
   "outputs": [],
   "source": [
    "ENV[\"SEEP_NO_GPU\"]=false\n",
    "using Seep, JLD\n",
    "T = Float32\n",
    "relu(x::ANode) = Seep.max!(0, x)\n",
    "make_node(a::Array) = ANode(a)\n",
    "make_node(x::Int...) = ANode(x...)\n",
    "get_data(x) = x\n",
    "\n",
    "include(\"data.jl\")\n",
    "data = IRData()\n",
    "nothing"
   ]
  },
  {
   "cell_type": "code",
   "execution_count": null,
   "metadata": {
    "collapsed": false
   },
   "outputs": [],
   "source": [
    "@load \"snapshot-brnn/statistics.jld\"\n",
    "f = line(figure(), collect(1:length(E)), E)\n",
    "ylim(f, 0, 1)"
   ]
  },
  {
   "cell_type": "code",
   "execution_count": null,
   "metadata": {
    "collapsed": false
   },
   "outputs": [],
   "source": [
    "# Constants\n",
    "const sequence_length = 50\n",
    "const input_size = 2\n",
    "const hidden_size = [10, 10]\n",
    "const feature_size = 5\n",
    "const output_size = 2\n",
    "const batch_size = size(data.test, 3)\n",
    "\n",
    "# Network\n",
    "const X = ANode[make_node(input_size, batch_size) for i=1:sequence_length]\n",
    "y = make_node(zeros(T, output_size, batch_size))\n",
    "\n",
    "params = Flow[]\n",
    "let \n",
    "    # Initialize nodes\n",
    "    fe = Linear(\"e\", input_size, hidden_size[1])\n",
    "    fhf = Flow[]\n",
    "    fhb = Flow[]\n",
    "    for j = 1:length(hidden_size)\n",
    "        k = j==1 ? 1 : j-1\n",
    "\n",
    "        f = LSTM(\"h$(j)_f\", hidden_size[k], hidden_size[j])\n",
    "        push!(fhf, f)\n",
    "\n",
    "        f = LSTM(\"h$(j)_b\", hidden_size[k], hidden_size[j])\n",
    "        push!(fhb, f)\n",
    "    end\n",
    "    fxf = Linear(\"xf\", hidden_size[end], feature_size)\n",
    "    fxb = Linear(\"xb\", hidden_size[end], feature_size)\n",
    "    ff = Linear(\"features\", feature_size, feature_size)\n",
    "    fy = Linear(\"output\", feature_size, output_size)\n",
    "    push!(params, fe, fhf..., fhb..., fxf, fxb, ff, fy)\n",
    "\n",
    "    # Initialize LSTM variables\n",
    "    hf = ANode[make_node(zeros(T, hidden_size[i], batch_size)) for i = 1:length(hidden_size)]\n",
    "    cf = ANode[make_node(zeros(T, hidden_size[i], batch_size)) for i = 1:length(hidden_size)]\n",
    "    hb = ANode[make_node(zeros(T, hidden_size[i], batch_size)) for i = 1:length(hidden_size)]\n",
    "    cb = ANode[make_node(zeros(T, hidden_size[i], batch_size)) for i = 1:length(hidden_size)]\n",
    "\n",
    "    # Build graph\n",
    "    xf = make_node(zeros(T, input_size, batch_size))\n",
    "    xb = make_node(zeros(T, input_size, batch_size))\n",
    "    for i = 1:length(X)\n",
    "        xf = relu(fe(X[i]))\n",
    "        xb = relu(fe(X[length(X)-i+1]))\n",
    "\n",
    "        for j = 1:length(hidden_size)\n",
    "            cf[j], hf[j] = fhf[j](xf, cf[j], hf[j])\n",
    "            xf = hf[j]\n",
    "\n",
    "            cb[j], hb[j] = fhb[j](xb, cb[j], hb[j])\n",
    "            xb = hb[j]\n",
    "        end\n",
    "    end\n",
    "\n",
    "    xf = fxf(xf)\n",
    "    xb = fxb(xb)\n",
    "    x = tanh(ff(xf + xb))\n",
    "    y = softmax(fy(x), 1)\n",
    "end\n",
    "\n",
    "# Gradient Calculation for SGD\n",
    "BRNN = instance(y)\n",
    "nothing"
   ]
  },
  {
   "cell_type": "code",
   "execution_count": null,
   "metadata": {
    "collapsed": false
   },
   "outputs": [],
   "source": [
    "# Load Latest Snapshot\n",
    "n_epoch_start = 0\n",
    "\n",
    "if isdir(\"snapshot-brnn\")\n",
    "    f = filter(x->contains(x, \"snapshot-\"), readdir(\"snapshot-brnn\"))\n",
    "    if length(f) > 0\n",
    "        epochs = map(x->parse(Int, split(split(x, \".\")[1], \"-\")[end]), f)\n",
    "        ind = indmax(epochs)\n",
    "        n_epoch_start = epochs[ind]\n",
    "        @show n_epoch_start\n",
    "        load_snapshot(joinpath(\"snapshot-brnn\", f[ind]), y)\n",
    "    end\n",
    "end\n"
   ]
  },
  {
   "cell_type": "code",
   "execution_count": null,
   "metadata": {
    "collapsed": false
   },
   "outputs": [],
   "source": [
    "function eval_test()\n",
    "    xx = data.test\n",
    "\n",
    "    for i = 1:length(X)\n",
    "        xi = BRNN[X[i]]\n",
    "        xi[:, :] = xx[:, i, :]\n",
    "    end\n",
    "\n",
    "    BRNN()\n",
    "    BRNN[y]\n",
    "end"
   ]
  },
  {
   "cell_type": "code",
   "execution_count": null,
   "metadata": {
    "collapsed": true
   },
   "outputs": [],
   "source": [
    "ys = eval_test()\n",
    ";"
   ]
  },
  {
   "cell_type": "code",
   "execution_count": null,
   "metadata": {
    "collapsed": false
   },
   "outputs": [],
   "source": [
    "hist(figure(), vec(ys[1, :]), line_color=\"black\")"
   ]
  },
  {
   "cell_type": "code",
   "execution_count": null,
   "metadata": {
    "collapsed": true
   },
   "outputs": [],
   "source": []
  }
 ],
 "metadata": {
  "kernelspec": {
   "display_name": "Julia 0.4.3",
   "language": "julia",
   "name": "julia-0.4"
  },
  "language_info": {
   "file_extension": ".jl",
   "mimetype": "application/julia",
   "name": "julia",
   "version": "0.4.3"
  }
 },
 "nbformat": 4,
 "nbformat_minor": 0
}
